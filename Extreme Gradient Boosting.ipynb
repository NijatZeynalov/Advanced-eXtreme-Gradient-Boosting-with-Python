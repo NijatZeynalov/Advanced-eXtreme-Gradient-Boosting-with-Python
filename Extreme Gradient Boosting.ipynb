{
 "cells": [
  {
   "cell_type": "code",
   "execution_count": 123,
   "id": "91124188",
   "metadata": {},
   "outputs": [],
   "source": [
    "from pandas import read_csv\n",
    "from xgboost import XGBClassifier\n",
    "from sklearn.model_selection import train_test_split\n",
    "from sklearn.metrics import accuracy_score\n",
    "from sklearn.preprocessing import LabelEncoder\n",
    "from imblearn.metrics import geometric_mean_score\n",
    "from sklearn.metrics import make_scorer\n",
    "import time\n",
    "from sklearn.metrics import balanced_accuracy_score"
   ]
  },
  {
   "cell_type": "markdown",
   "id": "9eb9bc05",
   "metadata": {},
   "source": [
    "# Data reading\n",
    "\n",
    "As a dataset we will use \"Otto Group Product Classification Challenge\" competition dataset. Each row corresponds to a single product. There are a total of 93 numerical features, which represent counts of different events. All features have been obfuscated and will not be defined any further.\n",
    "\n",
    "There are nine categories for all products. Each target category represents one of our most important product categories (like fashion, electronics, etc.). I just have used train.csv dataset and split its own to train and test datasets.\n",
    "\n",
    "URL: https://www.kaggle.com/c/otto-group-product-classification-challenge/data"
   ]
  },
  {
   "cell_type": "code",
   "execution_count": 4,
   "id": "62fddebb",
   "metadata": {},
   "outputs": [
    {
     "data": {
      "text/html": [
       "<div>\n",
       "<style scoped>\n",
       "    .dataframe tbody tr th:only-of-type {\n",
       "        vertical-align: middle;\n",
       "    }\n",
       "\n",
       "    .dataframe tbody tr th {\n",
       "        vertical-align: top;\n",
       "    }\n",
       "\n",
       "    .dataframe thead th {\n",
       "        text-align: right;\n",
       "    }\n",
       "</style>\n",
       "<table border=\"1\" class=\"dataframe\">\n",
       "  <thead>\n",
       "    <tr style=\"text-align: right;\">\n",
       "      <th></th>\n",
       "      <th>id</th>\n",
       "      <th>feat_1</th>\n",
       "      <th>feat_2</th>\n",
       "      <th>feat_3</th>\n",
       "      <th>feat_4</th>\n",
       "      <th>feat_5</th>\n",
       "      <th>feat_6</th>\n",
       "      <th>feat_7</th>\n",
       "      <th>feat_8</th>\n",
       "      <th>feat_9</th>\n",
       "      <th>...</th>\n",
       "      <th>feat_85</th>\n",
       "      <th>feat_86</th>\n",
       "      <th>feat_87</th>\n",
       "      <th>feat_88</th>\n",
       "      <th>feat_89</th>\n",
       "      <th>feat_90</th>\n",
       "      <th>feat_91</th>\n",
       "      <th>feat_92</th>\n",
       "      <th>feat_93</th>\n",
       "      <th>target</th>\n",
       "    </tr>\n",
       "  </thead>\n",
       "  <tbody>\n",
       "    <tr>\n",
       "      <th>0</th>\n",
       "      <td>1</td>\n",
       "      <td>1</td>\n",
       "      <td>0</td>\n",
       "      <td>0</td>\n",
       "      <td>0</td>\n",
       "      <td>0</td>\n",
       "      <td>0</td>\n",
       "      <td>0</td>\n",
       "      <td>0</td>\n",
       "      <td>0</td>\n",
       "      <td>...</td>\n",
       "      <td>1</td>\n",
       "      <td>0</td>\n",
       "      <td>0</td>\n",
       "      <td>0</td>\n",
       "      <td>0</td>\n",
       "      <td>0</td>\n",
       "      <td>0</td>\n",
       "      <td>0</td>\n",
       "      <td>0</td>\n",
       "      <td>Class_1</td>\n",
       "    </tr>\n",
       "    <tr>\n",
       "      <th>1</th>\n",
       "      <td>2</td>\n",
       "      <td>0</td>\n",
       "      <td>0</td>\n",
       "      <td>0</td>\n",
       "      <td>0</td>\n",
       "      <td>0</td>\n",
       "      <td>0</td>\n",
       "      <td>0</td>\n",
       "      <td>1</td>\n",
       "      <td>0</td>\n",
       "      <td>...</td>\n",
       "      <td>0</td>\n",
       "      <td>0</td>\n",
       "      <td>0</td>\n",
       "      <td>0</td>\n",
       "      <td>0</td>\n",
       "      <td>0</td>\n",
       "      <td>0</td>\n",
       "      <td>0</td>\n",
       "      <td>0</td>\n",
       "      <td>Class_1</td>\n",
       "    </tr>\n",
       "    <tr>\n",
       "      <th>2</th>\n",
       "      <td>3</td>\n",
       "      <td>0</td>\n",
       "      <td>0</td>\n",
       "      <td>0</td>\n",
       "      <td>0</td>\n",
       "      <td>0</td>\n",
       "      <td>0</td>\n",
       "      <td>0</td>\n",
       "      <td>1</td>\n",
       "      <td>0</td>\n",
       "      <td>...</td>\n",
       "      <td>0</td>\n",
       "      <td>0</td>\n",
       "      <td>0</td>\n",
       "      <td>0</td>\n",
       "      <td>0</td>\n",
       "      <td>0</td>\n",
       "      <td>0</td>\n",
       "      <td>0</td>\n",
       "      <td>0</td>\n",
       "      <td>Class_1</td>\n",
       "    </tr>\n",
       "    <tr>\n",
       "      <th>3</th>\n",
       "      <td>4</td>\n",
       "      <td>1</td>\n",
       "      <td>0</td>\n",
       "      <td>0</td>\n",
       "      <td>1</td>\n",
       "      <td>6</td>\n",
       "      <td>1</td>\n",
       "      <td>5</td>\n",
       "      <td>0</td>\n",
       "      <td>0</td>\n",
       "      <td>...</td>\n",
       "      <td>0</td>\n",
       "      <td>1</td>\n",
       "      <td>2</td>\n",
       "      <td>0</td>\n",
       "      <td>0</td>\n",
       "      <td>0</td>\n",
       "      <td>0</td>\n",
       "      <td>0</td>\n",
       "      <td>0</td>\n",
       "      <td>Class_1</td>\n",
       "    </tr>\n",
       "    <tr>\n",
       "      <th>4</th>\n",
       "      <td>5</td>\n",
       "      <td>0</td>\n",
       "      <td>0</td>\n",
       "      <td>0</td>\n",
       "      <td>0</td>\n",
       "      <td>0</td>\n",
       "      <td>0</td>\n",
       "      <td>0</td>\n",
       "      <td>0</td>\n",
       "      <td>0</td>\n",
       "      <td>...</td>\n",
       "      <td>1</td>\n",
       "      <td>0</td>\n",
       "      <td>0</td>\n",
       "      <td>0</td>\n",
       "      <td>0</td>\n",
       "      <td>1</td>\n",
       "      <td>0</td>\n",
       "      <td>0</td>\n",
       "      <td>0</td>\n",
       "      <td>Class_1</td>\n",
       "    </tr>\n",
       "    <tr>\n",
       "      <th>...</th>\n",
       "      <td>...</td>\n",
       "      <td>...</td>\n",
       "      <td>...</td>\n",
       "      <td>...</td>\n",
       "      <td>...</td>\n",
       "      <td>...</td>\n",
       "      <td>...</td>\n",
       "      <td>...</td>\n",
       "      <td>...</td>\n",
       "      <td>...</td>\n",
       "      <td>...</td>\n",
       "      <td>...</td>\n",
       "      <td>...</td>\n",
       "      <td>...</td>\n",
       "      <td>...</td>\n",
       "      <td>...</td>\n",
       "      <td>...</td>\n",
       "      <td>...</td>\n",
       "      <td>...</td>\n",
       "      <td>...</td>\n",
       "      <td>...</td>\n",
       "    </tr>\n",
       "    <tr>\n",
       "      <th>61873</th>\n",
       "      <td>61874</td>\n",
       "      <td>1</td>\n",
       "      <td>0</td>\n",
       "      <td>0</td>\n",
       "      <td>1</td>\n",
       "      <td>1</td>\n",
       "      <td>0</td>\n",
       "      <td>0</td>\n",
       "      <td>0</td>\n",
       "      <td>0</td>\n",
       "      <td>...</td>\n",
       "      <td>1</td>\n",
       "      <td>0</td>\n",
       "      <td>0</td>\n",
       "      <td>0</td>\n",
       "      <td>0</td>\n",
       "      <td>0</td>\n",
       "      <td>0</td>\n",
       "      <td>2</td>\n",
       "      <td>0</td>\n",
       "      <td>Class_9</td>\n",
       "    </tr>\n",
       "    <tr>\n",
       "      <th>61874</th>\n",
       "      <td>61875</td>\n",
       "      <td>4</td>\n",
       "      <td>0</td>\n",
       "      <td>0</td>\n",
       "      <td>0</td>\n",
       "      <td>0</td>\n",
       "      <td>0</td>\n",
       "      <td>0</td>\n",
       "      <td>0</td>\n",
       "      <td>0</td>\n",
       "      <td>...</td>\n",
       "      <td>0</td>\n",
       "      <td>2</td>\n",
       "      <td>0</td>\n",
       "      <td>0</td>\n",
       "      <td>2</td>\n",
       "      <td>0</td>\n",
       "      <td>0</td>\n",
       "      <td>1</td>\n",
       "      <td>0</td>\n",
       "      <td>Class_9</td>\n",
       "    </tr>\n",
       "    <tr>\n",
       "      <th>61875</th>\n",
       "      <td>61876</td>\n",
       "      <td>0</td>\n",
       "      <td>0</td>\n",
       "      <td>0</td>\n",
       "      <td>0</td>\n",
       "      <td>0</td>\n",
       "      <td>0</td>\n",
       "      <td>0</td>\n",
       "      <td>3</td>\n",
       "      <td>1</td>\n",
       "      <td>...</td>\n",
       "      <td>0</td>\n",
       "      <td>3</td>\n",
       "      <td>1</td>\n",
       "      <td>0</td>\n",
       "      <td>0</td>\n",
       "      <td>0</td>\n",
       "      <td>0</td>\n",
       "      <td>0</td>\n",
       "      <td>0</td>\n",
       "      <td>Class_9</td>\n",
       "    </tr>\n",
       "    <tr>\n",
       "      <th>61876</th>\n",
       "      <td>61877</td>\n",
       "      <td>1</td>\n",
       "      <td>0</td>\n",
       "      <td>0</td>\n",
       "      <td>0</td>\n",
       "      <td>0</td>\n",
       "      <td>0</td>\n",
       "      <td>0</td>\n",
       "      <td>0</td>\n",
       "      <td>0</td>\n",
       "      <td>...</td>\n",
       "      <td>0</td>\n",
       "      <td>0</td>\n",
       "      <td>0</td>\n",
       "      <td>0</td>\n",
       "      <td>1</td>\n",
       "      <td>0</td>\n",
       "      <td>3</td>\n",
       "      <td>10</td>\n",
       "      <td>0</td>\n",
       "      <td>Class_9</td>\n",
       "    </tr>\n",
       "    <tr>\n",
       "      <th>61877</th>\n",
       "      <td>61878</td>\n",
       "      <td>0</td>\n",
       "      <td>0</td>\n",
       "      <td>0</td>\n",
       "      <td>0</td>\n",
       "      <td>0</td>\n",
       "      <td>0</td>\n",
       "      <td>0</td>\n",
       "      <td>0</td>\n",
       "      <td>0</td>\n",
       "      <td>...</td>\n",
       "      <td>0</td>\n",
       "      <td>0</td>\n",
       "      <td>0</td>\n",
       "      <td>0</td>\n",
       "      <td>0</td>\n",
       "      <td>0</td>\n",
       "      <td>0</td>\n",
       "      <td>2</td>\n",
       "      <td>0</td>\n",
       "      <td>Class_9</td>\n",
       "    </tr>\n",
       "  </tbody>\n",
       "</table>\n",
       "<p>61878 rows × 95 columns</p>\n",
       "</div>"
      ],
      "text/plain": [
       "          id  feat_1  feat_2  feat_3  feat_4  feat_5  feat_6  feat_7  feat_8  \\\n",
       "0          1       1       0       0       0       0       0       0       0   \n",
       "1          2       0       0       0       0       0       0       0       1   \n",
       "2          3       0       0       0       0       0       0       0       1   \n",
       "3          4       1       0       0       1       6       1       5       0   \n",
       "4          5       0       0       0       0       0       0       0       0   \n",
       "...      ...     ...     ...     ...     ...     ...     ...     ...     ...   \n",
       "61873  61874       1       0       0       1       1       0       0       0   \n",
       "61874  61875       4       0       0       0       0       0       0       0   \n",
       "61875  61876       0       0       0       0       0       0       0       3   \n",
       "61876  61877       1       0       0       0       0       0       0       0   \n",
       "61877  61878       0       0       0       0       0       0       0       0   \n",
       "\n",
       "       feat_9  ...  feat_85  feat_86  feat_87  feat_88  feat_89  feat_90  \\\n",
       "0           0  ...        1        0        0        0        0        0   \n",
       "1           0  ...        0        0        0        0        0        0   \n",
       "2           0  ...        0        0        0        0        0        0   \n",
       "3           0  ...        0        1        2        0        0        0   \n",
       "4           0  ...        1        0        0        0        0        1   \n",
       "...       ...  ...      ...      ...      ...      ...      ...      ...   \n",
       "61873       0  ...        1        0        0        0        0        0   \n",
       "61874       0  ...        0        2        0        0        2        0   \n",
       "61875       1  ...        0        3        1        0        0        0   \n",
       "61876       0  ...        0        0        0        0        1        0   \n",
       "61877       0  ...        0        0        0        0        0        0   \n",
       "\n",
       "       feat_91  feat_92  feat_93   target  \n",
       "0            0        0        0  Class_1  \n",
       "1            0        0        0  Class_1  \n",
       "2            0        0        0  Class_1  \n",
       "3            0        0        0  Class_1  \n",
       "4            0        0        0  Class_1  \n",
       "...        ...      ...      ...      ...  \n",
       "61873        0        2        0  Class_9  \n",
       "61874        0        1        0  Class_9  \n",
       "61875        0        0        0  Class_9  \n",
       "61876        3       10        0  Class_9  \n",
       "61877        0        2        0  Class_9  \n",
       "\n",
       "[61878 rows x 95 columns]"
      ]
     },
     "execution_count": 4,
     "metadata": {},
     "output_type": "execute_result"
    }
   ],
   "source": [
    "data = read_csv('train.csv')\n",
    "data"
   ]
  },
  {
   "cell_type": "code",
   "execution_count": 140,
   "id": "7bc056b8",
   "metadata": {},
   "outputs": [],
   "source": [
    "del data['id']"
   ]
  },
  {
   "cell_type": "markdown",
   "id": "301b4c20",
   "metadata": {},
   "source": [
    "XGBoost can automatically learn how to best handle missing data."
   ]
  },
  {
   "cell_type": "code",
   "execution_count": 7,
   "id": "cd536a0a",
   "metadata": {},
   "outputs": [
    {
     "data": {
      "text/plain": [
       "0"
      ]
     },
     "execution_count": 7,
     "metadata": {},
     "output_type": "execute_result"
    }
   ],
   "source": [
    "data['target'].isnull().sum()"
   ]
  },
  {
   "cell_type": "code",
   "execution_count": 8,
   "id": "3721813b",
   "metadata": {},
   "outputs": [
    {
     "data": {
      "text/html": [
       "<div>\n",
       "<style scoped>\n",
       "    .dataframe tbody tr th:only-of-type {\n",
       "        vertical-align: middle;\n",
       "    }\n",
       "\n",
       "    .dataframe tbody tr th {\n",
       "        vertical-align: top;\n",
       "    }\n",
       "\n",
       "    .dataframe thead th {\n",
       "        text-align: right;\n",
       "    }\n",
       "</style>\n",
       "<table border=\"1\" class=\"dataframe\">\n",
       "  <thead>\n",
       "    <tr style=\"text-align: right;\">\n",
       "      <th></th>\n",
       "      <th>id</th>\n",
       "      <th>feat_1</th>\n",
       "      <th>feat_2</th>\n",
       "      <th>feat_3</th>\n",
       "      <th>feat_4</th>\n",
       "      <th>feat_5</th>\n",
       "      <th>feat_6</th>\n",
       "      <th>feat_7</th>\n",
       "      <th>feat_8</th>\n",
       "      <th>feat_9</th>\n",
       "      <th>...</th>\n",
       "      <th>feat_84</th>\n",
       "      <th>feat_85</th>\n",
       "      <th>feat_86</th>\n",
       "      <th>feat_87</th>\n",
       "      <th>feat_88</th>\n",
       "      <th>feat_89</th>\n",
       "      <th>feat_90</th>\n",
       "      <th>feat_91</th>\n",
       "      <th>feat_92</th>\n",
       "      <th>feat_93</th>\n",
       "    </tr>\n",
       "  </thead>\n",
       "  <tbody>\n",
       "    <tr>\n",
       "      <th>count</th>\n",
       "      <td>61878.000000</td>\n",
       "      <td>61878.00000</td>\n",
       "      <td>61878.000000</td>\n",
       "      <td>61878.000000</td>\n",
       "      <td>61878.000000</td>\n",
       "      <td>61878.000000</td>\n",
       "      <td>61878.000000</td>\n",
       "      <td>61878.000000</td>\n",
       "      <td>61878.000000</td>\n",
       "      <td>61878.000000</td>\n",
       "      <td>...</td>\n",
       "      <td>61878.000000</td>\n",
       "      <td>61878.000000</td>\n",
       "      <td>61878.000000</td>\n",
       "      <td>61878.000000</td>\n",
       "      <td>61878.000000</td>\n",
       "      <td>61878.000000</td>\n",
       "      <td>61878.000000</td>\n",
       "      <td>61878.000000</td>\n",
       "      <td>61878.000000</td>\n",
       "      <td>61878.000000</td>\n",
       "    </tr>\n",
       "    <tr>\n",
       "      <th>mean</th>\n",
       "      <td>30939.500000</td>\n",
       "      <td>0.38668</td>\n",
       "      <td>0.263066</td>\n",
       "      <td>0.901467</td>\n",
       "      <td>0.779081</td>\n",
       "      <td>0.071043</td>\n",
       "      <td>0.025696</td>\n",
       "      <td>0.193704</td>\n",
       "      <td>0.662433</td>\n",
       "      <td>1.011296</td>\n",
       "      <td>...</td>\n",
       "      <td>0.070752</td>\n",
       "      <td>0.532306</td>\n",
       "      <td>1.128576</td>\n",
       "      <td>0.393549</td>\n",
       "      <td>0.874915</td>\n",
       "      <td>0.457772</td>\n",
       "      <td>0.812421</td>\n",
       "      <td>0.264941</td>\n",
       "      <td>0.380119</td>\n",
       "      <td>0.126135</td>\n",
       "    </tr>\n",
       "    <tr>\n",
       "      <th>std</th>\n",
       "      <td>17862.784315</td>\n",
       "      <td>1.52533</td>\n",
       "      <td>1.252073</td>\n",
       "      <td>2.934818</td>\n",
       "      <td>2.788005</td>\n",
       "      <td>0.438902</td>\n",
       "      <td>0.215333</td>\n",
       "      <td>1.030102</td>\n",
       "      <td>2.255770</td>\n",
       "      <td>3.474822</td>\n",
       "      <td>...</td>\n",
       "      <td>1.151460</td>\n",
       "      <td>1.900438</td>\n",
       "      <td>2.681554</td>\n",
       "      <td>1.575455</td>\n",
       "      <td>2.115466</td>\n",
       "      <td>1.527385</td>\n",
       "      <td>4.597804</td>\n",
       "      <td>2.045646</td>\n",
       "      <td>0.982385</td>\n",
       "      <td>1.201720</td>\n",
       "    </tr>\n",
       "    <tr>\n",
       "      <th>min</th>\n",
       "      <td>1.000000</td>\n",
       "      <td>0.00000</td>\n",
       "      <td>0.000000</td>\n",
       "      <td>0.000000</td>\n",
       "      <td>0.000000</td>\n",
       "      <td>0.000000</td>\n",
       "      <td>0.000000</td>\n",
       "      <td>0.000000</td>\n",
       "      <td>0.000000</td>\n",
       "      <td>0.000000</td>\n",
       "      <td>...</td>\n",
       "      <td>0.000000</td>\n",
       "      <td>0.000000</td>\n",
       "      <td>0.000000</td>\n",
       "      <td>0.000000</td>\n",
       "      <td>0.000000</td>\n",
       "      <td>0.000000</td>\n",
       "      <td>0.000000</td>\n",
       "      <td>0.000000</td>\n",
       "      <td>0.000000</td>\n",
       "      <td>0.000000</td>\n",
       "    </tr>\n",
       "    <tr>\n",
       "      <th>25%</th>\n",
       "      <td>15470.250000</td>\n",
       "      <td>0.00000</td>\n",
       "      <td>0.000000</td>\n",
       "      <td>0.000000</td>\n",
       "      <td>0.000000</td>\n",
       "      <td>0.000000</td>\n",
       "      <td>0.000000</td>\n",
       "      <td>0.000000</td>\n",
       "      <td>0.000000</td>\n",
       "      <td>0.000000</td>\n",
       "      <td>...</td>\n",
       "      <td>0.000000</td>\n",
       "      <td>0.000000</td>\n",
       "      <td>0.000000</td>\n",
       "      <td>0.000000</td>\n",
       "      <td>0.000000</td>\n",
       "      <td>0.000000</td>\n",
       "      <td>0.000000</td>\n",
       "      <td>0.000000</td>\n",
       "      <td>0.000000</td>\n",
       "      <td>0.000000</td>\n",
       "    </tr>\n",
       "    <tr>\n",
       "      <th>50%</th>\n",
       "      <td>30939.500000</td>\n",
       "      <td>0.00000</td>\n",
       "      <td>0.000000</td>\n",
       "      <td>0.000000</td>\n",
       "      <td>0.000000</td>\n",
       "      <td>0.000000</td>\n",
       "      <td>0.000000</td>\n",
       "      <td>0.000000</td>\n",
       "      <td>0.000000</td>\n",
       "      <td>0.000000</td>\n",
       "      <td>...</td>\n",
       "      <td>0.000000</td>\n",
       "      <td>0.000000</td>\n",
       "      <td>0.000000</td>\n",
       "      <td>0.000000</td>\n",
       "      <td>0.000000</td>\n",
       "      <td>0.000000</td>\n",
       "      <td>0.000000</td>\n",
       "      <td>0.000000</td>\n",
       "      <td>0.000000</td>\n",
       "      <td>0.000000</td>\n",
       "    </tr>\n",
       "    <tr>\n",
       "      <th>75%</th>\n",
       "      <td>46408.750000</td>\n",
       "      <td>0.00000</td>\n",
       "      <td>0.000000</td>\n",
       "      <td>0.000000</td>\n",
       "      <td>0.000000</td>\n",
       "      <td>0.000000</td>\n",
       "      <td>0.000000</td>\n",
       "      <td>0.000000</td>\n",
       "      <td>1.000000</td>\n",
       "      <td>0.000000</td>\n",
       "      <td>...</td>\n",
       "      <td>0.000000</td>\n",
       "      <td>0.000000</td>\n",
       "      <td>1.000000</td>\n",
       "      <td>0.000000</td>\n",
       "      <td>1.000000</td>\n",
       "      <td>0.000000</td>\n",
       "      <td>0.000000</td>\n",
       "      <td>0.000000</td>\n",
       "      <td>0.000000</td>\n",
       "      <td>0.000000</td>\n",
       "    </tr>\n",
       "    <tr>\n",
       "      <th>max</th>\n",
       "      <td>61878.000000</td>\n",
       "      <td>61.00000</td>\n",
       "      <td>51.000000</td>\n",
       "      <td>64.000000</td>\n",
       "      <td>70.000000</td>\n",
       "      <td>19.000000</td>\n",
       "      <td>10.000000</td>\n",
       "      <td>38.000000</td>\n",
       "      <td>76.000000</td>\n",
       "      <td>43.000000</td>\n",
       "      <td>...</td>\n",
       "      <td>76.000000</td>\n",
       "      <td>55.000000</td>\n",
       "      <td>65.000000</td>\n",
       "      <td>67.000000</td>\n",
       "      <td>30.000000</td>\n",
       "      <td>61.000000</td>\n",
       "      <td>130.000000</td>\n",
       "      <td>52.000000</td>\n",
       "      <td>19.000000</td>\n",
       "      <td>87.000000</td>\n",
       "    </tr>\n",
       "  </tbody>\n",
       "</table>\n",
       "<p>8 rows × 94 columns</p>\n",
       "</div>"
      ],
      "text/plain": [
       "                 id       feat_1        feat_2        feat_3        feat_4  \\\n",
       "count  61878.000000  61878.00000  61878.000000  61878.000000  61878.000000   \n",
       "mean   30939.500000      0.38668      0.263066      0.901467      0.779081   \n",
       "std    17862.784315      1.52533      1.252073      2.934818      2.788005   \n",
       "min        1.000000      0.00000      0.000000      0.000000      0.000000   \n",
       "25%    15470.250000      0.00000      0.000000      0.000000      0.000000   \n",
       "50%    30939.500000      0.00000      0.000000      0.000000      0.000000   \n",
       "75%    46408.750000      0.00000      0.000000      0.000000      0.000000   \n",
       "max    61878.000000     61.00000     51.000000     64.000000     70.000000   \n",
       "\n",
       "             feat_5        feat_6        feat_7        feat_8        feat_9  \\\n",
       "count  61878.000000  61878.000000  61878.000000  61878.000000  61878.000000   \n",
       "mean       0.071043      0.025696      0.193704      0.662433      1.011296   \n",
       "std        0.438902      0.215333      1.030102      2.255770      3.474822   \n",
       "min        0.000000      0.000000      0.000000      0.000000      0.000000   \n",
       "25%        0.000000      0.000000      0.000000      0.000000      0.000000   \n",
       "50%        0.000000      0.000000      0.000000      0.000000      0.000000   \n",
       "75%        0.000000      0.000000      0.000000      1.000000      0.000000   \n",
       "max       19.000000     10.000000     38.000000     76.000000     43.000000   \n",
       "\n",
       "       ...       feat_84       feat_85       feat_86       feat_87  \\\n",
       "count  ...  61878.000000  61878.000000  61878.000000  61878.000000   \n",
       "mean   ...      0.070752      0.532306      1.128576      0.393549   \n",
       "std    ...      1.151460      1.900438      2.681554      1.575455   \n",
       "min    ...      0.000000      0.000000      0.000000      0.000000   \n",
       "25%    ...      0.000000      0.000000      0.000000      0.000000   \n",
       "50%    ...      0.000000      0.000000      0.000000      0.000000   \n",
       "75%    ...      0.000000      0.000000      1.000000      0.000000   \n",
       "max    ...     76.000000     55.000000     65.000000     67.000000   \n",
       "\n",
       "            feat_88       feat_89       feat_90       feat_91       feat_92  \\\n",
       "count  61878.000000  61878.000000  61878.000000  61878.000000  61878.000000   \n",
       "mean       0.874915      0.457772      0.812421      0.264941      0.380119   \n",
       "std        2.115466      1.527385      4.597804      2.045646      0.982385   \n",
       "min        0.000000      0.000000      0.000000      0.000000      0.000000   \n",
       "25%        0.000000      0.000000      0.000000      0.000000      0.000000   \n",
       "50%        0.000000      0.000000      0.000000      0.000000      0.000000   \n",
       "75%        1.000000      0.000000      0.000000      0.000000      0.000000   \n",
       "max       30.000000     61.000000    130.000000     52.000000     19.000000   \n",
       "\n",
       "            feat_93  \n",
       "count  61878.000000  \n",
       "mean       0.126135  \n",
       "std        1.201720  \n",
       "min        0.000000  \n",
       "25%        0.000000  \n",
       "50%        0.000000  \n",
       "75%        0.000000  \n",
       "max       87.000000  \n",
       "\n",
       "[8 rows x 94 columns]"
      ]
     },
     "execution_count": 8,
     "metadata": {},
     "output_type": "execute_result"
    }
   ],
   "source": [
    "data.describe()"
   ]
  },
  {
   "cell_type": "code",
   "execution_count": 131,
   "id": "8226342b",
   "metadata": {},
   "outputs": [
    {
     "data": {
      "image/png": "[encoded data removed]",
      "text/plain": [
       "<Figure size 1152x1440 with 100 Axes>"
      ]
     },
     "metadata": {
      "needs_background": "light"
     },
     "output_type": "display_data"
    }
   ],
   "source": [
    "data.hist(figsize=(16, 20), bins=50, xlabelsize=8, ylabelsize=8);"
   ]
  },
  {
   "cell_type": "markdown",
   "id": "60b578bc",
   "metadata": {},
   "source": [
    "GBoost models represent all problems as a regression predictive modeling problem\n",
    "that only takes numerical values as input. If your data is in a different form, it must be prepared\n",
    "into the expected format."
   ]
  },
  {
   "cell_type": "code",
   "execution_count": 87,
   "id": "dc40a219",
   "metadata": {},
   "outputs": [
    {
     "data": {
      "text/plain": [
       "(61878, 0)"
      ]
     },
     "execution_count": 87,
     "metadata": {},
     "output_type": "execute_result"
    }
   ],
   "source": [
    "X.select_dtypes(include=['object']).shape"
   ]
  },
  {
   "cell_type": "markdown",
   "id": "aeca80bc",
   "metadata": {},
   "source": [
    "# Correlation"
   ]
  },
  {
   "cell_type": "code",
   "execution_count": 141,
   "id": "30a7147c",
   "metadata": {},
   "outputs": [
    {
     "name": "stdout",
     "output_type": "stream",
     "text": [
      "There is 0 strongly correlated values with SalePrice:\n",
      "Series([], Name: target, dtype: float64)\n"
     ]
    }
   ],
   "source": [
    "df_num_corr = data.corr()['target'][:-1] # -1 because the latest row is SalePrice\n",
    "golden_features_list = df_num_corr[abs(df_num_corr) > 0.5].sort_values(ascending=False)\n",
    "print(\"There is {} strongly correlated values with SalePrice:\\n{}\".format(len(golden_features_list), golden_features_list))"
   ]
  },
  {
   "cell_type": "markdown",
   "id": "2413cd8e",
   "metadata": {},
   "source": [
    "As you see we dont have any feature to correlate with each other."
   ]
  },
  {
   "cell_type": "markdown",
   "id": "581866e6",
   "metadata": {},
   "source": [
    "# Histogram of Examples in Each Class\n",
    "\n",
    "By default, SMOTE will oversample all classes to have the same number of examples as the class with the most examples.\n",
    "\n",
    "In this case, class 1 has the most examples with 16122 , therefore, SMOTE will oversample all classes to have 16122  examples."
   ]
  },
  {
   "cell_type": "code",
   "execution_count": 39,
   "id": "33341e0b",
   "metadata": {},
   "outputs": [
    {
     "name": "stdout",
     "output_type": "stream",
     "text": [
      "Class=0, n=1929 (3.117%)\n",
      "Class=1, n=16122 (26.054%)\n",
      "Class=2, n=8004 (12.935%)\n",
      "Class=3, n=2691 (4.349%)\n",
      "Class=4, n=2739 (4.426%)\n",
      "Class=5, n=14135 (22.843%)\n",
      "Class=6, n=2839 (4.588%)\n",
      "Class=7, n=8464 (13.679%)\n",
      "Class=8, n=4955 (8.008%)\n"
     ]
    },
    {
     "data": {
      "image/png": "[encoded data removed]",
      "text/plain": [
       "<Figure size 432x288 with 1 Axes>"
      ]
     },
     "metadata": {
      "needs_background": "light"
     },
     "output_type": "display_data"
    }
   ],
   "source": [
    "from collections import Counter\n",
    "from matplotlib import pyplot\n",
    "counter = Counter(label_encoded_y)\n",
    "\n",
    "for k,v in counter.items():\n",
    "    per = v / len(label_encoded_y) * 100\n",
    "    print('Class=%d, n=%d (%.3f%%)' % (k, v, per))\n",
    "\n",
    "pyplot.bar(counter.keys(), counter.values())\n",
    "pyplot.show()"
   ]
  },
  {
   "cell_type": "code",
   "execution_count": 10,
   "id": "6b7a0f8f",
   "metadata": {},
   "outputs": [
    {
     "data": {
      "text/plain": [
       "(61878, 95)"
      ]
     },
     "execution_count": 10,
     "metadata": {},
     "output_type": "execute_result"
    }
   ],
   "source": [
    "data.shape"
   ]
  },
  {
   "cell_type": "markdown",
   "id": "62df15ed",
   "metadata": {},
   "source": [
    "# Splitting into train and test set"
   ]
  },
  {
   "cell_type": "code",
   "execution_count": 144,
   "id": "aaac24ce",
   "metadata": {},
   "outputs": [],
   "source": [
    "X = data.iloc[:,0:93]\n",
    "Y = data.iloc[:,93]"
   ]
  },
  {
   "cell_type": "code",
   "execution_count": 21,
   "id": "96937982",
   "metadata": {},
   "outputs": [],
   "source": [
    "label_encoder = LabelEncoder()\n",
    "label_encoder = label_encoder.fit(Y)\n",
    "label_encoded_y = label_encoder.transform(Y)"
   ]
  },
  {
   "cell_type": "code",
   "execution_count": 22,
   "id": "2b085000",
   "metadata": {},
   "outputs": [],
   "source": [
    "seed = 7\n",
    "test_size = 0.33"
   ]
  },
  {
   "cell_type": "code",
   "execution_count": 23,
   "id": "9ca98121",
   "metadata": {},
   "outputs": [],
   "source": [
    "X_train, X_test, y_train, y_test = train_test_split(X, label_encoded_y, test_size=test_size, random_state=seed)"
   ]
  },
  {
   "cell_type": "code",
   "execution_count": 29,
   "id": "db4ba10f",
   "metadata": {},
   "outputs": [
    {
     "name": "stdout",
     "output_type": "stream",
     "text": [
      "(41458,) (41458, 93)\n",
      "(20420,) (20420, 93)\n"
     ]
    }
   ],
   "source": [
    "print(y_train.shape, X_train.shape)\n",
    "print(y_test.shape, X_test.shape)"
   ]
  },
  {
   "cell_type": "markdown",
   "id": "e1f0139c",
   "metadata": {},
   "source": [
    "# Baseline XGBoost"
   ]
  },
  {
   "cell_type": "code",
   "execution_count": 30,
   "id": "c3cbeba3",
   "metadata": {},
   "outputs": [
    {
     "data": {
      "text/plain": [
       "XGBClassifier(objective='multi:softprob')"
      ]
     },
     "execution_count": 30,
     "metadata": {},
     "output_type": "execute_result"
    }
   ],
   "source": [
    "model = XGBClassifier()\n",
    "model.fit(X_train, y_train)"
   ]
  },
  {
   "cell_type": "code",
   "execution_count": 59,
   "id": "3d438da6",
   "metadata": {},
   "outputs": [
    {
     "name": "stdout",
     "output_type": "stream",
     "text": [
      "Accuracy: 76.87%\n",
      "Balanced accuracy: 67.33%\n"
     ]
    }
   ],
   "source": [
    "from sklearn.metrics import balanced_accuracy_score\n",
    "\n",
    "predictions = model.predict(X_test)\n",
    "\n",
    "balanced = balanced_accuracy_score(y_test, predictions)\n",
    "accuracy = accuracy_score(y_test, predictions)\n",
    "\n",
    "print(\"Accuracy: %.2f%%\" %(accuracy*100.0))\n",
    "print(\"Balanced accuracy: %.2f%%\" %(balanced*100.0))"
   ]
  },
  {
   "cell_type": "markdown",
   "id": "49d4faca",
   "metadata": {},
   "source": [
    "# Cross validation - Baseline model"
   ]
  },
  {
   "cell_type": "code",
   "execution_count": 52,
   "id": "a695f82b",
   "metadata": {},
   "outputs": [],
   "source": [
    "metric = make_scorer(balanced_accuracy_score)"
   ]
  },
  {
   "cell_type": "code",
   "execution_count": 55,
   "id": "5f9204f2",
   "metadata": {},
   "outputs": [],
   "source": [
    "from sklearn.model_selection import StratifiedKFold\n",
    "from sklearn.model_selection import KFold\n",
    "from sklearn.model_selection import cross_val_score\n",
    "\n",
    "kfold = StratifiedKFold(n_splits=10, random_state=7,  shuffle=True)\n",
    "results = cross_val_score(model, X_train, y_train,scoring=metric, cv=kfold)"
   ]
  },
  {
   "cell_type": "markdown",
   "id": "ab633099",
   "metadata": {},
   "source": [
    "# Baseline XGBoost with SMOTE Oversampling\n",
    "\n",
    "Oversampling refers to copying or synthesizing new examples of the minority classes. The most widely used approach to synthesizing new examples is called the Synthetic Minority Oversampling TEchnique, or SMOTE for short. This technique was described by Nitesh Chawla, et al. in their 2002 paper named for the technique titled “SMOTE: Synthetic Minority Over-sampling Technique.”"
   ]
  },
  {
   "cell_type": "code",
   "execution_count": 73,
   "id": "c28026ff",
   "metadata": {},
   "outputs": [],
   "source": [
    "from imblearn.over_sampling import SMOTE\n",
    "\n",
    "oversample = SMOTE()\n",
    "oversample_X, oversample_y = oversample.fit_resample(X_train, y_train)"
   ]
  },
  {
   "cell_type": "code",
   "execution_count": 77,
   "id": "0b38cfdb",
   "metadata": {},
   "outputs": [
    {
     "name": "stdout",
     "output_type": "stream",
     "text": [
      "Before:  Counter({1: 10807, 5: 9501, 7: 5719, 2: 5328, 8: 3289, 6: 1908, 4: 1821, 3: 1782, 0: 1303})\n",
      "After:  Counter({7: 10807, 2: 10807, 0: 10807, 8: 10807, 5: 10807, 1: 10807, 4: 10807, 3: 10807, 6: 10807})\n"
     ]
    }
   ],
   "source": [
    "b_counter = Counter(y_train)\n",
    "a_counter = Counter(oversample_y)\n",
    "print('Before: ', b_counter)\n",
    "print('After: ', a_counter)"
   ]
  },
  {
   "cell_type": "code",
   "execution_count": 78,
   "id": "e074de2a",
   "metadata": {},
   "outputs": [
    {
     "name": "stdout",
     "output_type": "stream",
     "text": [
      "Accuracy: 73.45%\n",
      "Balanced accuracy: 73.08%\n"
     ]
    }
   ],
   "source": [
    "model = XGBClassifier()\n",
    "model.fit(oversample_X, oversample_y)\n",
    "\n",
    "\n",
    "predictions = model.predict(X_test)\n",
    "\n",
    "balanced = balanced_accuracy_score(y_test, predictions)\n",
    "accuracy = accuracy_score(y_test, predictions)\n",
    "\n",
    "print(\"Accuracy: %.2f%%\" %(accuracy*100.0))\n",
    "print(\"Balanced accuracy: %.2f%%\" %(balanced*100.0))"
   ]
  },
  {
   "cell_type": "markdown",
   "id": "1e39eded",
   "metadata": {},
   "source": [
    "#### As you see, our balanced accuracy encreased from 67.33 to 73.08."
   ]
  },
  {
   "cell_type": "markdown",
   "id": "558b2879",
   "metadata": {},
   "source": [
    "# Baseline XGBoost Combined Data Sampling Methods\n",
    "\n",
    "Almost any oversampling method can be combined with almost any undersampling technique.\n",
    "Therefore, it may be beneficial to test a suite of different combinations of oversampling and\n",
    "undersampling techniques. "
   ]
  },
  {
   "cell_type": "code",
   "execution_count": 82,
   "id": "7f2a6a7f",
   "metadata": {},
   "outputs": [
    {
     "name": "stdout",
     "output_type": "stream",
     "text": [
      "Before:  Counter({1: 10807, 5: 9501, 7: 5719, 2: 5328, 8: 3289, 6: 1908, 4: 1821, 3: 1782, 0: 1303})\n",
      "After:  Counter({4: 10722, 0: 10120, 6: 9941, 8: 9799, 3: 9715, 7: 9374, 5: 8799, 2: 6671, 1: 3571})\n"
     ]
    }
   ],
   "source": [
    "from imblearn.combine import SMOTEENN\n",
    "resample = SMOTEENN()\n",
    "\n",
    "resample_X, resample_y = resample.fit_resample(X_train, y_train)\n",
    "\n",
    "b_counter = Counter(y_train)\n",
    "a_counter = Counter(resample_y)\n",
    "print('Before: ', b_counter)\n",
    "print('After: ', a_counter)"
   ]
  },
  {
   "cell_type": "code",
   "execution_count": 83,
   "id": "1560ad08",
   "metadata": {},
   "outputs": [
    {
     "name": "stdout",
     "output_type": "stream",
     "text": [
      "Accuracy: 68.68%\n",
      "Balanced accuracy: 73.15%\n"
     ]
    }
   ],
   "source": [
    "model.fit(resample_X, resample_y)\n",
    "\n",
    "\n",
    "r_predictions = model.predict(X_test)\n",
    "\n",
    "r_balanced = balanced_accuracy_score(y_test, r_predictions)\n",
    "r_accuracy = accuracy_score(y_test, r_predictions)\n",
    "\n",
    "print(\"Accuracy: %.2f%%\" %(r_accuracy*100.0))\n",
    "print(\"Balanced accuracy: %.2f%%\" %(r_balanced*100.0))"
   ]
  },
  {
   "cell_type": "markdown",
   "id": "2e95e4f4",
   "metadata": {},
   "source": [
    "#### As you see, our balanced accuracy encreased from 67.33 to 73.15."
   ]
  },
  {
   "cell_type": "markdown",
   "id": "5373ac45",
   "metadata": {},
   "source": [
    "# Weighted XGBoost\n",
    "\n",
    "XGBoost algorithm performs well for a wide range of challenging problems, it offers a large number of hyperparameters, many of which require tuning in order to get the most out of the algorithm on a given dataset.\n",
    "\n",
    "Gradients are used as the basis for fitting subsequent trees added to boost or correct error  made by the existing state of the ensemble of decision trees. The scale pos weight value is used to scale the gradient for the positive class. This has the effect of scaling errors made by the model during training on the positive class and encourages the model to over-correct them.\n",
    "\n",
    "In turn, this can help the model achieve better performance when making predictions on the\n",
    "positive class. Pushed too far, it may result in the model overfitting the positive class at the\n",
    "cost of worse performance on the negative class or both classes.\n"
   ]
  },
  {
   "cell_type": "code",
   "execution_count": 116,
   "id": "a0b8ba80",
   "metadata": {},
   "outputs": [],
   "source": [
    "from sklearn.utils import class_weight\n",
    "classes_weights = class_weight.compute_sample_weight(\n",
    "    class_weight='balanced',\n",
    "    y=y_train)\n",
    "\n",
    "w_model = XGBClassifier()\n",
    "w_model.fit(X_train, y_train, sample_weight=classes_weights)\n",
    "\n",
    "w_predictions = w_model.predict(X_test)"
   ]
  },
  {
   "cell_type": "code",
   "execution_count": 118,
   "id": "b26e8ba3",
   "metadata": {},
   "outputs": [
    {
     "name": "stdout",
     "output_type": "stream",
     "text": [
      "Accuracy: 73.21%\n",
      "Balanced accuracy: 74.01%\n"
     ]
    }
   ],
   "source": [
    "balanced = balanced_accuracy_score(y_test, w_predictions)\n",
    "accuracy = accuracy_score(y_test, w_predictions)\n",
    "\n",
    "print(\"Accuracy: %.2f%%\" %(accuracy*100.0))\n",
    "print(\"Balanced accuracy: %.2f%%\" %(balanced*100.0))"
   ]
  },
  {
   "cell_type": "markdown",
   "id": "05c4f99d",
   "metadata": {},
   "source": [
    "#### As you see, our balanced accuracy encreased from 67.33 to 74.01.\n",
    "\n",
    "__If you face with imbalance dataset and want to use XGBoost, be aware of that Weighted XGBoost may work better than standart resampling methods__"
   ]
  },
  {
   "cell_type": "markdown",
   "id": "79b5d3b4",
   "metadata": {},
   "source": [
    "#  Monitoring train performance\n",
    "\n",
    "Overfitting is a problem with sophisticated nonlinear learning algorithms like gradient boosting. XGBoost supports this capability by specifying both an test dataset and an evaluation metric on the call to model.fit() when training the model and specifying verbose output.\n",
    "\n",
    "Multiclass classification error rate. It is calculated as __(wrong cases)/(all cases)__."
   ]
  },
  {
   "cell_type": "code",
   "execution_count": 104,
   "id": "9634d9c4",
   "metadata": {},
   "outputs": [
    {
     "name": "stdout",
     "output_type": "stream",
     "text": [
      "[0]\tvalidation_0-merror:0.401587\tvalidation_1-merror:0.402057\n",
      "[1]\tvalidation_0-merror:0.381326\tvalidation_1-merror:0.383643\n",
      "[2]\tvalidation_0-merror:0.371605\tvalidation_1-merror:0.377767\n",
      "[3]\tvalidation_0-merror:0.359882\tvalidation_1-merror:0.363859\n",
      "[4]\tvalidation_0-merror:0.354335\tvalidation_1-merror:0.36097\n",
      "[5]\tvalidation_0-merror:0.346857\tvalidation_1-merror:0.354309\n",
      "[6]\tvalidation_0-merror:0.341309\tvalidation_1-merror:0.349363\n",
      "[7]\tvalidation_0-merror:0.33909\tvalidation_1-merror:0.346866\n",
      "[8]\tvalidation_0-merror:0.33716\tvalidation_1-merror:0.344417\n",
      "[9]\tvalidation_0-merror:0.335858\tvalidation_1-merror:0.343487\n",
      "[10]\tvalidation_0-merror:0.333422\tvalidation_1-merror:0.340695\n",
      "[11]\tvalidation_0-merror:0.330141\tvalidation_1-merror:0.33761\n",
      "[12]\tvalidation_0-merror:0.326186\tvalidation_1-merror:0.333888\n",
      "[13]\tvalidation_0-merror:0.325172\tvalidation_1-merror:0.331881\n",
      "[14]\tvalidation_0-merror:0.324738\tvalidation_1-merror:0.331146\n",
      "[15]\tvalidation_0-merror:0.32276\tvalidation_1-merror:0.329334\n",
      "[16]\tvalidation_0-merror:0.320782\tvalidation_1-merror:0.327963\n",
      "[17]\tvalidation_0-merror:0.318732\tvalidation_1-merror:0.326885\n",
      "[18]\tvalidation_0-merror:0.316489\tvalidation_1-merror:0.324535\n",
      "[19]\tvalidation_0-merror:0.315355\tvalidation_1-merror:0.322527\n",
      "[20]\tvalidation_0-merror:0.313812\tvalidation_1-merror:0.321743\n",
      "[21]\tvalidation_0-merror:0.313522\tvalidation_1-merror:0.321058\n",
      "[22]\tvalidation_0-merror:0.31152\tvalidation_1-merror:0.318952\n",
      "[23]\tvalidation_0-merror:0.311496\tvalidation_1-merror:0.31998\n",
      "[24]\tvalidation_0-merror:0.30947\tvalidation_1-merror:0.318462\n",
      "[25]\tvalidation_0-merror:0.310025\tvalidation_1-merror:0.318217\n",
      "[26]\tvalidation_0-merror:0.308095\tvalidation_1-merror:0.315965\n",
      "[27]\tvalidation_0-merror:0.306817\tvalidation_1-merror:0.31523\n",
      "[28]\tvalidation_0-merror:0.304211\tvalidation_1-merror:0.312586\n",
      "[29]\tvalidation_0-merror:0.303681\tvalidation_1-merror:0.312292\n",
      "[30]\tvalidation_0-merror:0.301872\tvalidation_1-merror:0.31097\n",
      "[31]\tvalidation_0-merror:0.299267\tvalidation_1-merror:0.308864\n",
      "[32]\tvalidation_0-merror:0.297868\tvalidation_1-merror:0.308325\n",
      "[33]\tvalidation_0-merror:0.295432\tvalidation_1-merror:0.30524\n",
      "[34]\tvalidation_0-merror:0.293984\tvalidation_1-merror:0.305289\n",
      "[35]\tvalidation_0-merror:0.293405\tvalidation_1-merror:0.304358\n",
      "[36]\tvalidation_0-merror:0.292923\tvalidation_1-merror:0.302204\n",
      "[37]\tvalidation_0-merror:0.2908\tvalidation_1-merror:0.302204\n",
      "[38]\tvalidation_0-merror:0.289908\tvalidation_1-merror:0.300245\n",
      "[39]\tvalidation_0-merror:0.288967\tvalidation_1-merror:0.298874\n",
      "[40]\tvalidation_0-merror:0.288388\tvalidation_1-merror:0.29809\n",
      "[41]\tvalidation_0-merror:0.286676\tvalidation_1-merror:0.296523\n",
      "[42]\tvalidation_0-merror:0.285638\tvalidation_1-merror:0.295642\n",
      "[43]\tvalidation_0-merror:0.284601\tvalidation_1-merror:0.295054\n",
      "[44]\tvalidation_0-merror:0.282913\tvalidation_1-merror:0.294172\n",
      "[45]\tvalidation_0-merror:0.281659\tvalidation_1-merror:0.291675\n",
      "[46]\tvalidation_0-merror:0.281031\tvalidation_1-merror:0.291332\n",
      "[47]\tvalidation_0-merror:0.279729\tvalidation_1-merror:0.290451\n",
      "[48]\tvalidation_0-merror:0.278788\tvalidation_1-merror:0.289961\n",
      "[49]\tvalidation_0-merror:0.277293\tvalidation_1-merror:0.289226\n",
      "[50]\tvalidation_0-merror:0.27669\tvalidation_1-merror:0.288932\n",
      "[51]\tvalidation_0-merror:0.275532\tvalidation_1-merror:0.287071\n",
      "[52]\tvalidation_0-merror:0.274881\tvalidation_1-merror:0.286876\n",
      "[53]\tvalidation_0-merror:0.274157\tvalidation_1-merror:0.286876\n",
      "[54]\tvalidation_0-merror:0.273264\tvalidation_1-merror:0.286729\n",
      "[55]\tvalidation_0-merror:0.272734\tvalidation_1-merror:0.285602\n",
      "[56]\tvalidation_0-merror:0.272034\tvalidation_1-merror:0.285455\n",
      "[57]\tvalidation_0-merror:0.271359\tvalidation_1-merror:0.283839\n",
      "[58]\tvalidation_0-merror:0.270901\tvalidation_1-merror:0.282713\n",
      "[59]\tvalidation_0-merror:0.270177\tvalidation_1-merror:0.282762\n",
      "[60]\tvalidation_0-merror:0.269815\tvalidation_1-merror:0.282125\n",
      "[61]\tvalidation_0-merror:0.269429\tvalidation_1-merror:0.282027\n",
      "[62]\tvalidation_0-merror:0.268585\tvalidation_1-merror:0.282272\n",
      "[63]\tvalidation_0-merror:0.267934\tvalidation_1-merror:0.28144\n",
      "[64]\tvalidation_0-merror:0.267138\tvalidation_1-merror:0.280754\n",
      "[65]\tvalidation_0-merror:0.266607\tvalidation_1-merror:0.279726\n",
      "[66]\tvalidation_0-merror:0.266173\tvalidation_1-merror:0.278844\n",
      "[67]\tvalidation_0-merror:0.265281\tvalidation_1-merror:0.27904\n",
      "[68]\tvalidation_0-merror:0.264702\tvalidation_1-merror:0.27811\n",
      "[69]\tvalidation_0-merror:0.264822\tvalidation_1-merror:0.278061\n",
      "[70]\tvalidation_0-merror:0.263906\tvalidation_1-merror:0.276983\n",
      "[71]\tvalidation_0-merror:0.26364\tvalidation_1-merror:0.277179\n",
      "[72]\tvalidation_0-merror:0.262941\tvalidation_1-merror:0.276934\n",
      "[73]\tvalidation_0-merror:0.262386\tvalidation_1-merror:0.275465\n",
      "[74]\tvalidation_0-merror:0.262241\tvalidation_1-merror:0.274927\n",
      "[75]\tvalidation_0-merror:0.261638\tvalidation_1-merror:0.274486\n",
      "[76]\tvalidation_0-merror:0.261325\tvalidation_1-merror:0.274143\n",
      "[77]\tvalidation_0-merror:0.260963\tvalidation_1-merror:0.2738\n",
      "[78]\tvalidation_0-merror:0.260625\tvalidation_1-merror:0.273604\n",
      "[79]\tvalidation_0-merror:0.260119\tvalidation_1-merror:0.273262\n",
      "[80]\tvalidation_0-merror:0.260167\tvalidation_1-merror:0.272429\n",
      "[81]\tvalidation_0-merror:0.259588\tvalidation_1-merror:0.272527\n",
      "[82]\tvalidation_0-merror:0.259202\tvalidation_1-merror:0.271988\n",
      "[83]\tvalidation_0-merror:0.258671\tvalidation_1-merror:0.272184\n",
      "[84]\tvalidation_0-merror:0.258141\tvalidation_1-merror:0.271988\n",
      "[85]\tvalidation_0-merror:0.25802\tvalidation_1-merror:0.271694\n",
      "[86]\tvalidation_0-merror:0.257731\tvalidation_1-merror:0.271205\n",
      "[87]\tvalidation_0-merror:0.257031\tvalidation_1-merror:0.271058\n",
      "[88]\tvalidation_0-merror:0.256694\tvalidation_1-merror:0.270323\n",
      "[89]\tvalidation_0-merror:0.256573\tvalidation_1-merror:0.269785\n",
      "[90]\tvalidation_0-merror:0.256525\tvalidation_1-merror:0.269295\n",
      "[91]\tvalidation_0-merror:0.256332\tvalidation_1-merror:0.269246\n",
      "[92]\tvalidation_0-merror:0.25609\tvalidation_1-merror:0.268854\n",
      "[93]\tvalidation_0-merror:0.255705\tvalidation_1-merror:0.269246\n",
      "[94]\tvalidation_0-merror:0.255439\tvalidation_1-merror:0.270176\n",
      "[95]\tvalidation_0-merror:0.254306\tvalidation_1-merror:0.269491\n",
      "[96]\tvalidation_0-merror:0.254088\tvalidation_1-merror:0.269148\n",
      "[97]\tvalidation_0-merror:0.253871\tvalidation_1-merror:0.268756\n",
      "[98]\tvalidation_0-merror:0.253196\tvalidation_1-merror:0.268217\n",
      "[99]\tvalidation_0-merror:0.253051\tvalidation_1-merror:0.267924\n"
     ]
    },
    {
     "data": {
      "text/plain": [
       "XGBClassifier(objective='multi:softprob')"
      ]
     },
     "execution_count": 104,
     "metadata": {},
     "output_type": "execute_result"
    }
   ],
   "source": [
    "eval_set = [(X_train, y_train), (X_test, y_test)]\n",
    "w_model.fit(X_train, y_train, eval_metric=\"merror\", sample_weight=classes_weights, eval_set=eval_set, verbose=True)"
   ]
  },
  {
   "cell_type": "code",
   "execution_count": 106,
   "id": "b349d3f7",
   "metadata": {},
   "outputs": [
    {
     "data": {
      "image/png": "[encoded data removed]",
      "text/plain": [
       "<Figure size 432x288 with 1 Axes>"
      ]
     },
     "metadata": {
      "needs_background": "light"
     },
     "output_type": "display_data"
    }
   ],
   "source": [
    "results = w_model.evals_result()\n",
    "epochs = len(results['validation_0']['merror'])\n",
    "x_axis = range(0,epochs)\n",
    "fig, ax = pyplot.subplots()\n",
    "ax.plot(x_axis, results[ 'validation_0' ][ 'merror' ], label= 'Train' )\n",
    "ax.plot(x_axis, results[ 'validation_1' ][ 'merror' ], label= 'Test' )\n",
    "ax.legend()\n",
    "pyplot.ylabel( ' Model Error ' )\n",
    "pyplot.title( ' Weighted XGBoost - Model Error ' )\n",
    "pyplot.show()\n"
   ]
  },
  {
   "cell_type": "markdown",
   "id": "bb8cc8f5",
   "metadata": {},
   "source": [
    "# Early Stopping \n",
    "\n",
    "XGBoost supports early stopping after a fixed number of iterations. In addition to specifying a\n",
    "metric and test dataset for evaluation each epoch, you must specify a window of the number of\n",
    "epochs over which no improvement is observed. This is specified in the early stopping rounds\n",
    "parameter."
   ]
  },
  {
   "cell_type": "code",
   "execution_count": 121,
   "id": "f02fd115",
   "metadata": {},
   "outputs": [
    {
     "name": "stdout",
     "output_type": "stream",
     "text": [
      "[0]\tvalidation_0-merror:0.356024\n",
      "Will train until validation_0-merror hasn't improved in 10 rounds.\n",
      "[1]\tvalidation_0-merror:0.32713\n",
      "[2]\tvalidation_0-merror:0.322723\n",
      "[3]\tvalidation_0-merror:0.315524\n",
      "[4]\tvalidation_0-merror:0.307101\n",
      "[5]\tvalidation_0-merror:0.304261\n",
      "[6]\tvalidation_0-merror:0.301959\n",
      "[7]\tvalidation_0-merror:0.298384\n",
      "[8]\tvalidation_0-merror:0.296523\n",
      "[9]\tvalidation_0-merror:0.293585\n",
      "[10]\tvalidation_0-merror:0.292165\n",
      "[11]\tvalidation_0-merror:0.290744\n",
      "[12]\tvalidation_0-merror:0.289618\n",
      "[13]\tvalidation_0-merror:0.288541\n",
      "[14]\tvalidation_0-merror:0.285847\n",
      "[15]\tvalidation_0-merror:0.283252\n",
      "[16]\tvalidation_0-merror:0.282321\n",
      "[17]\tvalidation_0-merror:0.282272\n",
      "[18]\tvalidation_0-merror:0.281342\n",
      "[19]\tvalidation_0-merror:0.278844\n",
      "[20]\tvalidation_0-merror:0.277718\n",
      "[21]\tvalidation_0-merror:0.2762\n",
      "[22]\tvalidation_0-merror:0.27571\n",
      "[23]\tvalidation_0-merror:0.274339\n",
      "[24]\tvalidation_0-merror:0.273115\n",
      "[25]\tvalidation_0-merror:0.272576\n",
      "[26]\tvalidation_0-merror:0.270617\n",
      "[27]\tvalidation_0-merror:0.269736\n",
      "[28]\tvalidation_0-merror:0.269834\n",
      "[29]\tvalidation_0-merror:0.268315\n",
      "[30]\tvalidation_0-merror:0.267287\n",
      "[31]\tvalidation_0-merror:0.266357\n",
      "[32]\tvalidation_0-merror:0.266503\n",
      "[33]\tvalidation_0-merror:0.264985\n",
      "[34]\tvalidation_0-merror:0.264691\n",
      "[35]\tvalidation_0-merror:0.263908\n",
      "[36]\tvalidation_0-merror:0.262733\n",
      "[37]\tvalidation_0-merror:0.262292\n",
      "[38]\tvalidation_0-merror:0.261214\n",
      "[39]\tvalidation_0-merror:0.260676\n",
      "[40]\tvalidation_0-merror:0.260284\n",
      "[41]\tvalidation_0-merror:0.258766\n",
      "[42]\tvalidation_0-merror:0.258325\n",
      "[43]\tvalidation_0-merror:0.25764\n",
      "[44]\tvalidation_0-merror:0.25666\n",
      "[45]\tvalidation_0-merror:0.256856\n",
      "[46]\tvalidation_0-merror:0.255681\n",
      "[47]\tvalidation_0-merror:0.254212\n",
      "[48]\tvalidation_0-merror:0.253722\n",
      "[49]\tvalidation_0-merror:0.253722\n",
      "[50]\tvalidation_0-merror:0.253036\n",
      "[51]\tvalidation_0-merror:0.252008\n",
      "[52]\tvalidation_0-merror:0.251616\n",
      "[53]\tvalidation_0-merror:0.250833\n",
      "[54]\tvalidation_0-merror:0.250979\n",
      "[55]\tvalidation_0-merror:0.25\n",
      "[56]\tvalidation_0-merror:0.249608\n",
      "[57]\tvalidation_0-merror:0.249363\n",
      "[58]\tvalidation_0-merror:0.248776\n",
      "[59]\tvalidation_0-merror:0.247943\n",
      "[60]\tvalidation_0-merror:0.246866\n",
      "[61]\tvalidation_0-merror:0.246327\n",
      "[62]\tvalidation_0-merror:0.246033\n",
      "[63]\tvalidation_0-merror:0.245103\n",
      "[64]\tvalidation_0-merror:0.245005\n",
      "[65]\tvalidation_0-merror:0.244564\n",
      "[66]\tvalidation_0-merror:0.243634\n",
      "[67]\tvalidation_0-merror:0.242556\n",
      "[68]\tvalidation_0-merror:0.242116\n",
      "[69]\tvalidation_0-merror:0.241773\n",
      "[70]\tvalidation_0-merror:0.240842\n",
      "[71]\tvalidation_0-merror:0.240402\n",
      "[72]\tvalidation_0-merror:0.2405\n",
      "[73]\tvalidation_0-merror:0.239961\n",
      "[74]\tvalidation_0-merror:0.239618\n",
      "[75]\tvalidation_0-merror:0.238786\n",
      "[76]\tvalidation_0-merror:0.238492\n",
      "[77]\tvalidation_0-merror:0.238051\n",
      "[78]\tvalidation_0-merror:0.23761\n",
      "[79]\tvalidation_0-merror:0.23761\n",
      "[80]\tvalidation_0-merror:0.236778\n",
      "[81]\tvalidation_0-merror:0.23619\n",
      "[82]\tvalidation_0-merror:0.236043\n",
      "[83]\tvalidation_0-merror:0.236043\n",
      "[84]\tvalidation_0-merror:0.235504\n",
      "[85]\tvalidation_0-merror:0.235162\n",
      "[86]\tvalidation_0-merror:0.234476\n",
      "[87]\tvalidation_0-merror:0.234084\n",
      "[88]\tvalidation_0-merror:0.233399\n",
      "[89]\tvalidation_0-merror:0.233839\n",
      "[90]\tvalidation_0-merror:0.233105\n",
      "[91]\tvalidation_0-merror:0.232958\n",
      "[92]\tvalidation_0-merror:0.232909\n",
      "[93]\tvalidation_0-merror:0.232811\n",
      "[94]\tvalidation_0-merror:0.232468\n",
      "[95]\tvalidation_0-merror:0.232517\n",
      "[96]\tvalidation_0-merror:0.232076\n",
      "[97]\tvalidation_0-merror:0.231881\n",
      "[98]\tvalidation_0-merror:0.231881\n",
      "[99]\tvalidation_0-merror:0.231342\n"
     ]
    },
    {
     "data": {
      "text/plain": [
       "XGBClassifier(objective='multi:softprob')"
      ]
     },
     "execution_count": 121,
     "metadata": {},
     "output_type": "execute_result"
    }
   ],
   "source": [
    "eval_set = [(X_test, y_test)]\n",
    "w_model.fit(X_train, y_train, early_stopping_rounds=10, eval_metric=\"merror\",eval_set=eval_set, verbose=True)"
   ]
  },
  {
   "cell_type": "markdown",
   "id": "0f528951",
   "metadata": {},
   "source": [
    "# Multithreading support for XGBoost\n",
    "\n",
    "The XGBoost library for gradient boosting uses is designed for efficient multi-core parallel\n",
    "processing. This allows it to efficiently use all of the CPU cores in your system when training.\n",
    "\n",
    "The XGBClassifier\n",
    "and XGBRegressor wrapper classes for XGBoost for use in scikit-learn provide the nthread\n",
    "parameter to specify the number of threads that XGBoost can use during training.\n",
    "By default this parameter is set to -1 to make use of all of the cores in your system"
   ]
  },
  {
   "cell_type": "code",
   "execution_count": 129,
   "id": "a9c143b7",
   "metadata": {},
   "outputs": [
    {
     "name": "stdout",
     "output_type": "stream",
     "text": [
      "1 114.57355666160583\n",
      "2 66.64184951782227\n",
      "3 56.04189896583557\n",
      "4 49.06010842323303\n",
      "5 47.80325675010681\n",
      "6 43.59668707847595\n",
      "7 40.563720703125\n",
      "8 39.64261245727539\n"
     ]
    }
   ],
   "source": [
    "results = []\n",
    "num_threads=[1,2,3,4,5,6,7,8]\n",
    "\n",
    "for n in num_threads:\n",
    "    start =time.time()\n",
    "    model = XGBClassifier(nthread=n)\n",
    "    model.fit(X_train, y_train)\n",
    "    elapsed = time.time() - start\n",
    "    print(n, elapsed)\n",
    "    results.append(elapsed)\n"
   ]
  },
  {
   "cell_type": "code",
   "execution_count": 130,
   "id": "1d1a010b",
   "metadata": {},
   "outputs": [
    {
     "data": {
      "image/png": "[encoded data removed]",
      "text/plain": [
       "<Figure size 432x288 with 1 Axes>"
      ]
     },
     "metadata": {
      "needs_background": "light"
     },
     "output_type": "display_data"
    }
   ],
   "source": [
    "pyplot.plot(num_threads, results)\n",
    "pyplot.ylabel('Speed (seconds)')\n",
    "pyplot.xlabel('Number of Threads')\n",
    "pyplot.title('XGBoost Training Speed vs Number of Threads')\n",
    "pyplot.show()"
   ]
  },
  {
   "cell_type": "markdown",
   "id": "b8ac1362",
   "metadata": {},
   "source": [
    "We have used XGBoost in sample dataset, but there is still a lot more to learn. I hope this notebook was helpful :)"
   ]
  }
 ],
 "metadata": {
  "kernelspec": {
   "display_name": "Python 3",
   "language": "python",
   "name": "python3"
  },
  "language_info": {
   "codemirror_mode": {
    "name": "ipython",
    "version": 3
   },
   "file_extension": ".py",
   "mimetype": "text/x-python",
   "name": "python",
   "nbconvert_exporter": "python",
   "pygments_lexer": "ipython3",
   "version": "3.7.10"
  }
 },
 "nbformat": 4,
 "nbformat_minor": 5
}
